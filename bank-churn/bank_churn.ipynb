{
 "cells": [
  {
   "cell_type": "markdown",
   "id": "b8fb272d-c1e8-4979-bd80-9f41b89592fc",
   "metadata": {},
   "source": [
    "# Predicting Bank Customer Churn using Decision Tree Classifier\r\n",
    "\r\n",
    "This notebook walks through a complete machine learning workflow to predict customer churn in a bank using a Decision Tree Classifier. The aim is to identify which customers are likely to leave the bank, enabling better retention strategie\n",
    "\n",
    "## 1. Importing Libraries\r\n",
    "\r\n",
    "We start by importing standard Python libraries for data handling (`pandas`, `numpy`), visualization (`matplotlib`, `seaborn`), and machine learning (`sklearn`).s."
   ]
  },
  {
   "cell_type": "code",
   "execution_count": 1,
   "id": "40a97b0b-9e2a-4f63-8a5c-8ecfb9c7d44e",
   "metadata": {},
   "outputs": [],
   "source": [
    "import pandas as pd\n",
    "import numpy as np\n",
    "import matplotlib.pyplot as plt\n",
    "import seaborn as sns\n",
    "from sklearn.model_selection import train_test_split\n",
    "from sklearn.tree import DecisionTreeClassifier\n",
    "from sklearn.preprocessing import LabelEncoder\n",
    "from sklearn.metrics import ConfusionMatrixDisplay"
   ]
  },
  {
   "cell_type": "markdown",
   "id": "e8e263af-faba-4354-9d01-0ee121aaa45b",
   "metadata": {},
   "source": [
    "## 2. Loading the Dataset\r\n",
    "\r\n",
    "We load the dataset using `pandas.read_csv()` from a local file path. This dataset contains customer demographics and account-level information that may indicate churn behavior."
   ]
  },
  {
   "cell_type": "code",
   "execution_count": 2,
   "id": "7cccc8e9-dd85-43fa-8f7e-fd4dbeda5d5a",
   "metadata": {},
   "outputs": [],
   "source": [
    "bank = pd.read_csv(\"Bank_churn.csv\")"
   ]
  },
  {
   "cell_type": "markdown",
   "id": "9d8f811a-972d-44b6-af7e-8ae21956bfea",
   "metadata": {},
   "source": [
    "## 3. Exploratory Data Analysis (EDA)\r\n",
    "\r\n",
    "We inspect the dataset using:\r\n",
    "- `.head()` to view sample records,\r\n",
    "- `.info()` to examine data types and nulls,\r\n",
    "- `.describe()` for summary statistics.\r\n",
    "\r\n",
    "This helps us understand variable types and identify missing or anomalous values."
   ]
  },
  {
   "cell_type": "code",
   "execution_count": 5,
   "id": "74d2f792-0b7f-4ca2-b276-18b5290541ce",
   "metadata": {},
   "outputs": [
    {
     "data": {
      "text/html": [
       "<div>\n",
       "<style scoped>\n",
       "    .dataframe tbody tr th:only-of-type {\n",
       "        vertical-align: middle;\n",
       "    }\n",
       "\n",
       "    .dataframe tbody tr th {\n",
       "        vertical-align: top;\n",
       "    }\n",
       "\n",
       "    .dataframe thead th {\n",
       "        text-align: right;\n",
       "    }\n",
       "</style>\n",
       "<table border=\"1\" class=\"dataframe\">\n",
       "  <thead>\n",
       "    <tr style=\"text-align: right;\">\n",
       "      <th></th>\n",
       "      <th>id</th>\n",
       "      <th>CustomerId</th>\n",
       "      <th>Surname</th>\n",
       "      <th>CreditScore</th>\n",
       "      <th>Geography</th>\n",
       "      <th>Gender</th>\n",
       "      <th>Age</th>\n",
       "      <th>Tenure</th>\n",
       "      <th>Balance</th>\n",
       "      <th>NumOfProducts</th>\n",
       "      <th>HasCrCard</th>\n",
       "      <th>IsActiveMember</th>\n",
       "      <th>EstimatedSalary</th>\n",
       "      <th>Exited</th>\n",
       "    </tr>\n",
       "  </thead>\n",
       "  <tbody>\n",
       "    <tr>\n",
       "      <th>0</th>\n",
       "      <td>0</td>\n",
       "      <td>15674932</td>\n",
       "      <td>Okwudilichukwu</td>\n",
       "      <td>668</td>\n",
       "      <td>France</td>\n",
       "      <td>Male</td>\n",
       "      <td>33.0</td>\n",
       "      <td>3</td>\n",
       "      <td>0.00</td>\n",
       "      <td>2</td>\n",
       "      <td>1.0</td>\n",
       "      <td>0.0</td>\n",
       "      <td>181449.97</td>\n",
       "      <td>0</td>\n",
       "    </tr>\n",
       "    <tr>\n",
       "      <th>1</th>\n",
       "      <td>1</td>\n",
       "      <td>15749177</td>\n",
       "      <td>Okwudiliolisa</td>\n",
       "      <td>627</td>\n",
       "      <td>France</td>\n",
       "      <td>Male</td>\n",
       "      <td>33.0</td>\n",
       "      <td>1</td>\n",
       "      <td>0.00</td>\n",
       "      <td>2</td>\n",
       "      <td>1.0</td>\n",
       "      <td>1.0</td>\n",
       "      <td>49503.50</td>\n",
       "      <td>0</td>\n",
       "    </tr>\n",
       "    <tr>\n",
       "      <th>2</th>\n",
       "      <td>2</td>\n",
       "      <td>15694510</td>\n",
       "      <td>Hsueh</td>\n",
       "      <td>678</td>\n",
       "      <td>France</td>\n",
       "      <td>Male</td>\n",
       "      <td>40.0</td>\n",
       "      <td>10</td>\n",
       "      <td>0.00</td>\n",
       "      <td>2</td>\n",
       "      <td>1.0</td>\n",
       "      <td>0.0</td>\n",
       "      <td>184866.69</td>\n",
       "      <td>0</td>\n",
       "    </tr>\n",
       "    <tr>\n",
       "      <th>3</th>\n",
       "      <td>3</td>\n",
       "      <td>15741417</td>\n",
       "      <td>Kao</td>\n",
       "      <td>581</td>\n",
       "      <td>France</td>\n",
       "      <td>Male</td>\n",
       "      <td>34.0</td>\n",
       "      <td>2</td>\n",
       "      <td>148882.54</td>\n",
       "      <td>1</td>\n",
       "      <td>1.0</td>\n",
       "      <td>1.0</td>\n",
       "      <td>84560.88</td>\n",
       "      <td>0</td>\n",
       "    </tr>\n",
       "    <tr>\n",
       "      <th>4</th>\n",
       "      <td>4</td>\n",
       "      <td>15766172</td>\n",
       "      <td>Chiemenam</td>\n",
       "      <td>716</td>\n",
       "      <td>Spain</td>\n",
       "      <td>Male</td>\n",
       "      <td>33.0</td>\n",
       "      <td>5</td>\n",
       "      <td>0.00</td>\n",
       "      <td>2</td>\n",
       "      <td>1.0</td>\n",
       "      <td>1.0</td>\n",
       "      <td>15068.83</td>\n",
       "      <td>0</td>\n",
       "    </tr>\n",
       "  </tbody>\n",
       "</table>\n",
       "</div>"
      ],
      "text/plain": [
       "   id  CustomerId         Surname  CreditScore Geography Gender   Age  Tenure  \\\n",
       "0   0    15674932  Okwudilichukwu          668    France   Male  33.0       3   \n",
       "1   1    15749177   Okwudiliolisa          627    France   Male  33.0       1   \n",
       "2   2    15694510           Hsueh          678    France   Male  40.0      10   \n",
       "3   3    15741417             Kao          581    France   Male  34.0       2   \n",
       "4   4    15766172       Chiemenam          716     Spain   Male  33.0       5   \n",
       "\n",
       "     Balance  NumOfProducts  HasCrCard  IsActiveMember  EstimatedSalary  \\\n",
       "0       0.00              2        1.0             0.0        181449.97   \n",
       "1       0.00              2        1.0             1.0         49503.50   \n",
       "2       0.00              2        1.0             0.0        184866.69   \n",
       "3  148882.54              1        1.0             1.0         84560.88   \n",
       "4       0.00              2        1.0             1.0         15068.83   \n",
       "\n",
       "   Exited  \n",
       "0       0  \n",
       "1       0  \n",
       "2       0  \n",
       "3       0  \n",
       "4       0  "
      ]
     },
     "execution_count": 5,
     "metadata": {},
     "output_type": "execute_result"
    }
   ],
   "source": [
    "bank.head()"
   ]
  },
  {
   "cell_type": "markdown",
   "id": "74c3f145-3704-461b-9564-92fe8ab870b1",
   "metadata": {},
   "source": [
    "## 4. Data Preprocessing\r\n",
    "\r\n",
    "We encode categorical variables using `LabelEncoder` so that machine learning algorithms can process them. Features and the target (`Exited`) are separated, and unnecessary columns are dropped."
   ]
  },
  {
   "cell_type": "code",
   "execution_count": 7,
   "id": "3d80e68f-7234-4217-a48c-77044b0a7c33",
   "metadata": {},
   "outputs": [
    {
     "data": {
      "image/png": "[encoded data removed]",
      "text/plain": [
       "<Figure size 640x480 with 1 Axes>"
      ]
     },
     "metadata": {},
     "output_type": "display_data"
    }
   ],
   "source": [
    "sns.stripplot(x = 'Geography', data = bank[(bank.NumOfProducts == 1) & (bank.Gender == 'Female') & (bank.Age >= 38)], hue = 'Exited')\n",
    "plt.show()"
   ]
  },
  {
   "cell_type": "code",
   "execution_count": 9,
   "id": "9dc9a3dd-7e73-4173-ad87-a5dfb5d9d865",
   "metadata": {},
   "outputs": [
    {
     "data": {
      "text/plain": [
       "((77437, 4), (77437,))"
      ]
     },
     "execution_count": 9,
     "metadata": {},
     "output_type": "execute_result"
    }
   ],
   "source": [
    "X = bank[bank.Age >= 38][['Geography','NumOfProducts','Gender','Age']]\n",
    "y = bank[bank.Age >= 38]['Exited']\n",
    "X.shape, y.shape"
   ]
  },
  {
   "cell_type": "code",
   "execution_count": 11,
   "id": "6cb1e944-bd95-4322-a671-8a30a607b3e9",
   "metadata": {},
   "outputs": [],
   "source": [
    "encoding = LabelEncoder()\n",
    "columns = [['Geography', 'Gender']]\n",
    "X['Geography'] = encoding.fit_transform(X[\"Geography\"])\n",
    "X['Gender'] = encoding.fit_transform(X[\"Gender\"])"
   ]
  },
  {
   "cell_type": "markdown",
   "id": "21aecbe1-de64-4020-a43c-934c3ffba699",
   "metadata": {},
   "source": [
    "## 5. Splitting the Data\n",
    "\n",
    "The dataset is split into training and testing sets using `train_test_split()` from scikit-learn, allowing us to evaluate the model on unseen data."
   ]
  },
  {
   "cell_type": "code",
   "execution_count": 13,
   "id": "b1d48ef3-6b28-4bc6-954e-1d93b55edf26",
   "metadata": {},
   "outputs": [
    {
     "data": {
      "text/plain": [
       "((66437, 4), (11000, 4))"
      ]
     },
     "execution_count": 13,
     "metadata": {},
     "output_type": "execute_result"
    }
   ],
   "source": [
    "X_train, X_test, y_train, y_test = train_test_split(X,y, random_state=10, test_size=11000)\n",
    "X_train.shape, X_test.shape"
   ]
  },
  {
   "cell_type": "markdown",
   "id": "e0a73cde-0f49-4ab3-a5e0-94a0839e9b69",
   "metadata": {},
   "source": [
    "## 6. Training the Decision Tree Classifier\n",
    "\n",
    "A `DecisionTreeClassifier` is instantiated and trained on the training set. This model is chosen for its interpretability and ability to handle both categorical and numerical features."
   ]
  },
  {
   "cell_type": "code",
   "execution_count": 15,
   "id": "c4763139-1ec9-4dbe-afad-dba5065208d6",
   "metadata": {},
   "outputs": [
    {
     "data": {
      "text/plain": [
       "0.7809090909090909"
      ]
     },
     "execution_count": 15,
     "metadata": {},
     "output_type": "execute_result"
    }
   ],
   "source": [
    "model = DecisionTreeClassifier(criterion='entropy', max_depth=8, max_leaf_nodes=300)\n",
    "model.fit(X_train, y_train)\n",
    "model.score(X_test, y_test)"
   ]
  },
  {
   "cell_type": "code",
   "execution_count": 17,
   "id": "17ad0100-2fa5-47eb-bf11-bf99dd129ca7",
   "metadata": {},
   "outputs": [
    {
     "data": {
      "text/plain": [
       "array([0.06792567, 0.62196059, 0.05007091, 0.26004283])"
      ]
     },
     "execution_count": 17,
     "metadata": {},
     "output_type": "execute_result"
    }
   ],
   "source": [
    "model.feature_importances_"
   ]
  },
  {
   "cell_type": "code",
   "execution_count": 19,
   "id": "bf77de3a-88b0-41d2-84ee-a7b74436548a",
   "metadata": {},
   "outputs": [
    {
     "data": {
      "text/plain": [
       "(8, 189)"
      ]
     },
     "execution_count": 19,
     "metadata": {},
     "output_type": "execute_result"
    }
   ],
   "source": [
    "model.get_depth(), model.get_n_leaves()"
   ]
  },
  {
   "cell_type": "markdown",
   "id": "8a03a26f-d9c5-4272-9967-0de0f03a9cf2",
   "metadata": {},
   "source": [
    "## 7. Model Evaluation\n",
    "\n",
    "We use `ConfusionMatrixDisplay` to visualize the performance of the model on the test set. Accuracy or other metrics may also be computed to assess predictive quality.\n"
   ]
  },
  {
   "cell_type": "code",
   "execution_count": 21,
   "id": "c0adb611-daab-4347-bf58-74b4ff9bae7e",
   "metadata": {},
   "outputs": [
    {
     "data": {
      "image/png": "[encoded data removed]",
      "text/plain": [
       "<Figure size 640x480 with 2 Axes>"
      ]
     },
     "metadata": {},
     "output_type": "display_data"
    }
   ],
   "source": [
    "ConfusionMatrixDisplay.from_estimator(model, X_test, y_test)\n",
    "plt.show()"
   ]
  },
  {
   "cell_type": "markdown",
   "id": "cddc2b6f-7a7b-4e94-ab39-298cf5aec086",
   "metadata": {},
   "source": [
    "## 8. Conclusion and Next Steps\n",
    "\n",
    "The Decision Tree model provides an interpretable baseline for predicting customer churn. Future enhancements may include:\n",
    "- Feature importance analysis,\n",
    "- Hyperparameter tuning,\n",
    "- Testing ensemble models like Random Forests or Gradient Boosting."
   ]
  }
 ],
 "metadata": {
  "kernelspec": {
   "display_name": "Python 3 (ipykernel)",
   "language": "python",
   "name": "python3"
  },
  "language_info": {
   "codemirror_mode": {
    "name": "ipython",
    "version": 3
   },
   "file_extension": ".py",
   "mimetype": "text/x-python",
   "name": "python",
   "nbconvert_exporter": "python",
   "pygments_lexer": "ipython3",
   "version": "3.12.4"
  }
 },
 "nbformat": 4,
 "nbformat_minor": 5
}
